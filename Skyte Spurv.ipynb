{
 "cells": [
  {
   "cell_type": "markdown",
   "metadata": {},
   "source": [
    "# Skyte Spurv forsøk 28.01"
   ]
  },
  {
   "cell_type": "markdown",
   "metadata": {},
   "source": [
    "Det første vi gjorde, var å bruke veiformelen: s = v_0 * t + 1/2 * a * t^2, og skrive om denne til et utrykk for vertikal bevegelse og en for horisontal bevegelse, ved å bruke vektorer. Dermed fikk vi y(t) = v_0*sin(O)*t - 1/2 *g*t^2, der t er tid og y(t) er høyde. Vi fikk også x(t)= v_0*cos(O)*t, der t er tid, og x(t) er strekning i horisontal retning. \n",
    "\n",
    "*O er utgangsvinkel "
   ]
  },
  {
   "cell_type": "markdown",
   "metadata": {},
   "source": [
    "# Programmet:"
   ]
  },
  {
   "cell_type": "code",
   "execution_count": 9,
   "metadata": {},
   "outputs": [],
   "source": [
    "def Newtons(f,fder, a,tol=1E-15):\n",
    "    c = a\n",
    "    while abs(f(c)) > tol:\n",
    "        c = a - f(a)/fder(a)\n",
    "        a = c\n",
    "    '''\n",
    "    print(\"Nullpunktet er x=\",c)\n",
    "    '''\n",
    "    return c"
   ]
  },
  {
   "cell_type": "markdown",
   "metadata": {},
   "source": [
    "Bruker newtons metode, men dropper printen med nullpunktet, da denne er tiden ballen er i lufta. "
   ]
  },
  {
   "cell_type": "code",
   "execution_count": 14,
   "metadata": {},
   "outputs": [
    {
     "name": "stdout",
     "output_type": "stream",
     "text": [
      "Nullpunktet er x= 0.9183017729170864\n",
      "Ballen går 4.136279306829767 meter\n"
     ]
    }
   ],
   "source": [
    "from pylab import *\n",
    "from Numerisk import Newtons\n",
    "\n",
    "\n",
    "v=6.37\n",
    "O=pi/4\n",
    "g = 9.81\n",
    "\n",
    "def strekning(t):\n",
    "    print(\"Ballen går\",v*cos(O)*t,\"meter\")\n",
    "\n",
    "def f(t):\n",
    "    return v*sin(O)*t-0.5*g*t**2\n",
    "\n",
    "def fder(t):\n",
    "    return v*sin(O)-g*t\n",
    "\n",
    "c = Newtons(f,fder,10)\n",
    "\n",
    "\n",
    "strekning(c)\n"
   ]
  },
  {
   "cell_type": "code",
   "execution_count": 18,
   "metadata": {},
   "outputs": [
    {
     "data": {
      "text/html": [
       "<div>\n",
       "<style scoped>\n",
       "    .dataframe tbody tr th:only-of-type {\n",
       "        vertical-align: middle;\n",
       "    }\n",
       "\n",
       "    .dataframe tbody tr th {\n",
       "        vertical-align: top;\n",
       "    }\n",
       "\n",
       "    .dataframe thead th {\n",
       "        text-align: right;\n",
       "    }\n",
       "</style>\n",
       "<table border=\"1\" class=\"dataframe\">\n",
       "  <thead>\n",
       "    <tr style=\"text-align: right;\">\n",
       "      <th></th>\n",
       "      <th>vinkel</th>\n",
       "      <th>v_0</th>\n",
       "      <th>teoretisk t</th>\n",
       "      <th>teoretisk s</th>\n",
       "      <th>målt s</th>\n",
       "    </tr>\n",
       "  </thead>\n",
       "  <tbody>\n",
       "    <tr>\n",
       "      <th>0</th>\n",
       "      <td>pi/9</td>\n",
       "      <td>6.37</td>\n",
       "      <td>0.44</td>\n",
       "      <td>2.66</td>\n",
       "      <td>3.00</td>\n",
       "    </tr>\n",
       "    <tr>\n",
       "      <th>1</th>\n",
       "      <td>pi/4</td>\n",
       "      <td>6.23</td>\n",
       "      <td>0.90</td>\n",
       "      <td>3.96</td>\n",
       "      <td>3.80</td>\n",
       "    </tr>\n",
       "    <tr>\n",
       "      <th>2</th>\n",
       "      <td>5*pi/18</td>\n",
       "      <td>6.37</td>\n",
       "      <td>0.99</td>\n",
       "      <td>4.07</td>\n",
       "      <td>4.00</td>\n",
       "    </tr>\n",
       "    <tr>\n",
       "      <th>3</th>\n",
       "      <td>pi/3</td>\n",
       "      <td>6.23</td>\n",
       "      <td>1.10</td>\n",
       "      <td>3.43</td>\n",
       "      <td>3.35</td>\n",
       "    </tr>\n",
       "  </tbody>\n",
       "</table>\n",
       "</div>"
      ],
      "text/plain": [
       "    vinkel   v_0  teoretisk t  teoretisk s  målt s\n",
       "0     pi/9  6.37         0.44         2.66    3.00\n",
       "1     pi/4  6.23         0.90         3.96    3.80\n",
       "2  5*pi/18  6.37         0.99         4.07    4.00\n",
       "3     pi/3  6.23         1.10         3.43    3.35"
      ]
     },
     "execution_count": 18,
     "metadata": {},
     "output_type": "execute_result"
    }
   ],
   "source": [
    "import pandas as pd\n",
    "data = [[\"pi/9\",6.37,0.44,2.66,3],[\"pi/4\",6.23,0.90,3.96,3.8],[\"5*pi/18\",6.37,0.99,4.07,4],[\"pi/3\",6.23,1.10,3.43,3.35]]\n",
    "\n",
    "pd.DataFrame(data,columns = [\"vinkel\",\"v_0\",\"teoretisk t\",\"teoretisk s\",\"målt s\"])\n"
   ]
  },
  {
   "cell_type": "markdown",
   "metadata": {},
   "source": [
    "## Konklusjon og Feilkilder "
   ]
  },
  {
   "cell_type": "markdown",
   "metadata": {},
   "source": [
    "For å konkludere har vi sett at å bruke newtons metode for å finne en teoretisk strekning, stemmer ganske godt overens med våre målinger.\n",
    "Det er flere feilkilder å være oppmerksom på i dette forsøket. En slik feilkilde er opplysninger vi fikk av andre grupper, og dermed har ikke vi kontroll over feilkildene i disse målingene. En annen feilkilde er at det er vanskelig å finne presist hvor ballen landet, og dette førte til avrundinger i avstandsmålingene. En siste feilkilde er målingen av vinkelen, da man kan ha målt feil sted på \"kanonen\".  "
   ]
  },
  {
   "cell_type": "code",
   "execution_count": null,
   "metadata": {},
   "outputs": [],
   "source": []
  }
 ],
 "metadata": {
  "kernelspec": {
   "display_name": "Python 3",
   "language": "python",
   "name": "python3"
  },
  "language_info": {
   "codemirror_mode": {
    "name": "ipython",
    "version": 3
   },
   "file_extension": ".py",
   "mimetype": "text/x-python",
   "name": "python",
   "nbconvert_exporter": "python",
   "pygments_lexer": "ipython3",
   "version": "3.6.5"
  }
 },
 "nbformat": 4,
 "nbformat_minor": 2
}
print("nei")
